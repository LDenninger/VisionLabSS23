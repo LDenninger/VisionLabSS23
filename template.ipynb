{
 "cells": [
  {
   "attachments": {},
   "cell_type": "markdown",
   "metadata": {},
   "source": [
    "## Template for the usage of the project\n",
    "\n",
    "Small example on basis of the first task to show the usage and test/debug the project."
   ]
  },
  {
   "attachments": {},
   "cell_type": "markdown",
   "metadata": {},
   "source": [
    "### Environment Setup\n",
    "\n"
   ]
  },
  {
   "cell_type": "code",
   "execution_count": null,
   "metadata": {},
   "outputs": [],
   "source": [
    "import os\n",
    "from pathlib import Path as P\n",
    "\n",
    "import numpy as np\n",
    "\n",
    "import torch\n",
    "import torch.nn as nn\n",
    "\n",
    "import optuna\n",
    "\n",
    "###--- Jupyter Environment Parameter ---###\n",
    "DEVICE = torch.device(\"cuda\" if torch.cuda.is_available() else \"cpu\")\n",
    "\n",
    "CONFIG_PATH = P('')\n",
    "\n",
    "EXPERIMENT_NAME = 'template'\n",
    "RUN_NAME = 'test_01'\n",
    "\n",
    "# Set required environment variables\n",
    "os.environ['ACTIVATE_EXP'] = EXPERIMENT_NAME\n",
    "os.environ['ACTIVE_RUN'] = RUN_NAME\n"
   ]
  },
  {
   "attachments": {},
   "cell_type": "markdown",
   "metadata": {},
   "source": [
    "### Hyperparameters"
   ]
  },
  {
   "cell_type": "code",
   "execution_count": null,
   "metadata": {},
   "outputs": [],
   "source": [
    "###--- Model Configuration ---###\n",
    "MODEL_CONFIG = {\n",
    "                    'run_name' : 'test',\n",
    "                    'model' : 'mlp',\n",
    "                    'num_epochs' : 10,\n",
    "                    'num_iterations': 0,       # 0 indicates that in each epoch the complete dataset is traversed. This value should be overwritter in code.\n",
    "                    'dataset': {\n",
    "                            'name': 'svhn',\n",
    "                            'train_size': 73257,\n",
    "                            'val_size': 6000,\n",
    "                            'test_size': 26032,\n",
    "                            'train_shuffle': True,\n",
    "                            'eval_shuffle': False,\n",
    "                            'drop_last': True\n",
    "                    },\n",
    "                    'batch_size' : 64,\n",
    "                    'loss': {\n",
    "                            'type': 'CrossEntropy'\n",
    "                    },\n",
    "                    'eval_batch_size': 32,\n",
    "                    'eval_frequency' : 2,\n",
    "                    'pre_processing': {\n",
    "                            'flatten': True,\n",
    "                            'flatten_only_img_sizes': True,\n",
    "                            'rgb2gray': True,\n",
    "                            'lbl_oneHot': True\n",
    "                    },\n",
    "                    'layers': [\n",
    "                            {\n",
    "                            'type': 'linear',\n",
    "                            'dimension': 518,\n",
    "                            'activation': 'relu'\n",
    "                            },\n",
    "                            {\n",
    "                            'type': 'linear',\n",
    "                            'dimension': 128,\n",
    "                            'activation': 'relu'\n",
    "                            },\n",
    "                            {\n",
    "                            'type': 'linear',\n",
    "                            'dimension': 64,\n",
    "                            'activation': 'relu'\n",
    "                            },\n",
    "                            {\n",
    "                            'type': 'linear',\n",
    "                            'dimension': 32,\n",
    "                            'activation': 'relu'\n",
    "                            },\n",
    "                            {\n",
    "                            'type': 'linear',\n",
    "                            'dimension': 10,\n",
    "                            'activation': 'softmax'\n",
    "                            }\n",
    "\n",
    "                    ],\n",
    "                    'input_dim': 1024,\n",
    "                    'output_dim': 10,\n",
    "                    'optimizer': {\n",
    "                            'type': 'Adam',\n",
    "                            'learning_rate': 0.001,\n",
    "                            'betas': [0.9, 0.99],\n",
    "                            'eps': 0.00000001\n",
    "                    },\n",
    "                    'evaluation': {\n",
    "                            'metrics': ['accuracy', 'precision', 'precision_per_class', 'recall', 'recall_per_class'],\n",
    "                            'classes': [],   # Has to be defined prior to training from the dataset meta information.\n",
    "                    },\n",
    "                    'save_frequency': 2,\n",
    "                    'random_seed': 42\n",
    "\n",
    "                    }\n",
    "###--- Hyperparameter Optimization Configuration ---###\n",
    "OPTIMIZATION_CONFIG = {}\n",
    "\n"
   ]
  },
  {
   "attachments": {},
   "cell_type": "markdown",
   "metadata": {},
   "source": [
    "### Data Loading ###\n",
    "\n",
    "Load data and print example images."
   ]
  },
  {
   "cell_type": "code",
   "execution_count": null,
   "metadata": {},
   "outputs": [],
   "source": []
  }
 ],
 "metadata": {
  "language_info": {
   "name": "python"
  },
  "orig_nbformat": 4
 },
 "nbformat": 4,
 "nbformat_minor": 2
}
